{
 "cells": [
  {
   "cell_type": "markdown",
   "id": "282536fb-b9fb-4c68-b1d6-8dd4f8435d57",
   "metadata": {},
   "source": [
    "# GWAS for parents survival\n",
    "## Initialize definitions"
   ]
  },
  {
   "cell_type": "code",
   "execution_count": 17,
   "id": "a8f5b635-9821-4897-8201-496b09bfcf84",
   "metadata": {
    "tags": []
   },
   "outputs": [],
   "source": [
    "source(here::here(\"code/init.R\"))\n",
    "source(here::here(\"code/gwas.R\"))\n",
    "#options(gmax.data.size = 1e9)\n",
    "library(gwiser) "
   ]
  },
  {
   "cell_type": "markdown",
   "id": "9f43b5bf-0155-4293-b7c1-b25a391aadef",
   "metadata": {},
   "source": [
    "## Define parents survival phenotype"
   ]
  },
  {
   "cell_type": "code",
   "execution_count": 2,
   "id": "4325c6e6-df87-48e9-9bb1-4307e2bbaf80",
   "metadata": {},
   "outputs": [
    {
     "data": {
      "text/html": [
       "<table class=\"dataframe\">\n",
       "<caption>A data.frame: 6 × 9</caption>\n",
       "<thead>\n",
       "\t<tr><th></th><th scope=col>id</th><th scope=col>mother_age_at_death</th><th scope=col>mother_last_alive</th><th scope=col>father_age_at_death</th><th scope=col>father_last_alive</th><th scope=col>mdead</th><th scope=col>mfollow_time</th><th scope=col>fdead</th><th scope=col>ffollow_time</th></tr>\n",
       "\t<tr><th></th><th scope=col>&lt;int&gt;</th><th scope=col>&lt;dbl&gt;</th><th scope=col>&lt;dbl&gt;</th><th scope=col>&lt;dbl&gt;</th><th scope=col>&lt;dbl&gt;</th><th scope=col>&lt;lgl&gt;</th><th scope=col>&lt;int&gt;</th><th scope=col>&lt;lgl&gt;</th><th scope=col>&lt;int&gt;</th></tr>\n",
       "</thead>\n",
       "<tbody>\n",
       "\t<tr><th scope=row>1</th><td>1000019</td><td>Inf</td><td> 87</td><td> 49</td><td>Inf</td><td>FALSE</td><td>87</td><td> TRUE</td><td>49</td></tr>\n",
       "\t<tr><th scope=row>2</th><td>1000022</td><td>Inf</td><td> 75</td><td>Inf</td><td> 78</td><td>FALSE</td><td>75</td><td>FALSE</td><td>78</td></tr>\n",
       "\t<tr><th scope=row>3</th><td>1000035</td><td>Inf</td><td>Inf</td><td>Inf</td><td> 87</td><td>FALSE</td><td>NA</td><td>FALSE</td><td>87</td></tr>\n",
       "\t<tr><th scope=row>4</th><td>1000046</td><td> 60</td><td>Inf</td><td> 60</td><td>Inf</td><td> TRUE</td><td>60</td><td> TRUE</td><td>60</td></tr>\n",
       "\t<tr><th scope=row>5</th><td>1000054</td><td>Inf</td><td> 74</td><td> 83</td><td>Inf</td><td>FALSE</td><td>74</td><td> TRUE</td><td>83</td></tr>\n",
       "\t<tr><th scope=row>6</th><td>1000063</td><td> 52</td><td>Inf</td><td> 72</td><td>Inf</td><td> TRUE</td><td>52</td><td> TRUE</td><td>72</td></tr>\n",
       "</tbody>\n",
       "</table>\n"
      ],
      "text/latex": [
       "A data.frame: 6 × 9\n",
       "\\begin{tabular}{r|lllllllll}\n",
       "  & id & mother\\_age\\_at\\_death & mother\\_last\\_alive & father\\_age\\_at\\_death & father\\_last\\_alive & mdead & mfollow\\_time & fdead & ffollow\\_time\\\\\n",
       "  & <int> & <dbl> & <dbl> & <dbl> & <dbl> & <lgl> & <int> & <lgl> & <int>\\\\\n",
       "\\hline\n",
       "\t1 & 1000019 & Inf &  87 &  49 & Inf & FALSE & 87 &  TRUE & 49\\\\\n",
       "\t2 & 1000022 & Inf &  75 & Inf &  78 & FALSE & 75 & FALSE & 78\\\\\n",
       "\t3 & 1000035 & Inf & Inf & Inf &  87 & FALSE & NA & FALSE & 87\\\\\n",
       "\t4 & 1000046 &  60 & Inf &  60 & Inf &  TRUE & 60 &  TRUE & 60\\\\\n",
       "\t5 & 1000054 & Inf &  74 &  83 & Inf & FALSE & 74 &  TRUE & 83\\\\\n",
       "\t6 & 1000063 &  52 & Inf &  72 & Inf &  TRUE & 52 &  TRUE & 72\\\\\n",
       "\\end{tabular}\n"
      ],
      "text/markdown": [
       "\n",
       "A data.frame: 6 × 9\n",
       "\n",
       "| <!--/--> | id &lt;int&gt; | mother_age_at_death &lt;dbl&gt; | mother_last_alive &lt;dbl&gt; | father_age_at_death &lt;dbl&gt; | father_last_alive &lt;dbl&gt; | mdead &lt;lgl&gt; | mfollow_time &lt;int&gt; | fdead &lt;lgl&gt; | ffollow_time &lt;int&gt; |\n",
       "|---|---|---|---|---|---|---|---|---|---|\n",
       "| 1 | 1000019 | Inf |  87 |  49 | Inf | FALSE | 87 |  TRUE | 49 |\n",
       "| 2 | 1000022 | Inf |  75 | Inf |  78 | FALSE | 75 | FALSE | 78 |\n",
       "| 3 | 1000035 | Inf | Inf | Inf |  87 | FALSE | NA | FALSE | 87 |\n",
       "| 4 | 1000046 |  60 | Inf |  60 | Inf |  TRUE | 60 |  TRUE | 60 |\n",
       "| 5 | 1000054 | Inf |  74 |  83 | Inf | FALSE | 74 |  TRUE | 83 |\n",
       "| 6 | 1000063 |  52 | Inf |  72 | Inf |  TRUE | 52 |  TRUE | 72 |\n",
       "\n"
      ],
      "text/plain": [
       "  id      mother_age_at_death mother_last_alive father_age_at_death\n",
       "1 1000019 Inf                  87                49                \n",
       "2 1000022 Inf                  75               Inf                \n",
       "3 1000035 Inf                 Inf               Inf                \n",
       "4 1000046  60                 Inf                60                \n",
       "5 1000054 Inf                  74                83                \n",
       "6 1000063  52                 Inf                72                \n",
       "  father_last_alive mdead mfollow_time fdead ffollow_time\n",
       "1 Inf               FALSE 87            TRUE 49          \n",
       "2  78               FALSE 75           FALSE 78          \n",
       "3  87               FALSE NA           FALSE 87          \n",
       "4 Inf                TRUE 60            TRUE 60          \n",
       "5 Inf               FALSE 74            TRUE 83          \n",
       "6 Inf                TRUE 52            TRUE 72          "
      ]
     },
     "metadata": {},
     "output_type": "display_data"
    }
   ],
   "source": [
    "parents_survival <- tgutil::fread(here::here(\"output/ukbb_parents.csv\"))\n",
    "head(parents_survival)\n"
   ]
  },
  {
   "cell_type": "code",
   "execution_count": 3,
   "id": "3c364e88-a824-4f72-97b9-d5987e392244",
   "metadata": {},
   "outputs": [
    {
     "data": {
      "text/html": [
       "<table class=\"dataframe\">\n",
       "<caption>A data.table: 6 × 8</caption>\n",
       "<thead>\n",
       "\t<tr><th scope=col>id</th><th scope=col>age</th><th scope=col>sex</th><th scope=col>ckd</th><th scope=col>copd</th><th scope=col>diabetes</th><th scope=col>liver</th><th scope=col>ncvd</th></tr>\n",
       "\t<tr><th scope=col>&lt;int&gt;</th><th scope=col>&lt;int&gt;</th><th scope=col>&lt;chr&gt;</th><th scope=col>&lt;dbl&gt;</th><th scope=col>&lt;dbl&gt;</th><th scope=col>&lt;dbl&gt;</th><th scope=col>&lt;dbl&gt;</th><th scope=col>&lt;dbl&gt;</th></tr>\n",
       "</thead>\n",
       "<tbody>\n",
       "\t<tr><td>1000019</td><td>60</td><td>female</td><td> 0.6888426</td><td> 0.40155519</td><td>-0.2422354</td><td> 0.2831111</td><td> 0.3710600</td></tr>\n",
       "\t<tr><td>1000022</td><td>50</td><td>female</td><td> 1.6588384</td><td> 1.29550119</td><td> 1.5858586</td><td> 1.7183820</td><td> 1.6632586</td></tr>\n",
       "\t<tr><td>1000035</td><td>60</td><td>male  </td><td> 1.1588003</td><td> 1.64335532</td><td> 1.7567751</td><td> 0.5568670</td><td> 1.6163710</td></tr>\n",
       "\t<tr><td>1000046</td><td>70</td><td>female</td><td>-0.5749957</td><td>-0.01139192</td><td>-1.2153981</td><td>-0.6834640</td><td> 1.5736620</td></tr>\n",
       "\t<tr><td>1000054</td><td>45</td><td>female</td><td>-1.1543210</td><td>-0.58443457</td><td>-0.8761561</td><td>-0.6001504</td><td>-0.8822776</td></tr>\n",
       "\t<tr><td>1000063</td><td>65</td><td>male  </td><td> 1.4177173</td><td> 2.05214399</td><td>-0.2529519</td><td> 0.6911006</td><td> 1.3997413</td></tr>\n",
       "</tbody>\n",
       "</table>\n"
      ],
      "text/latex": [
       "A data.table: 6 × 8\n",
       "\\begin{tabular}{llllllll}\n",
       " id & age & sex & ckd & copd & diabetes & liver & ncvd\\\\\n",
       " <int> & <int> & <chr> & <dbl> & <dbl> & <dbl> & <dbl> & <dbl>\\\\\n",
       "\\hline\n",
       "\t 1000019 & 60 & female &  0.6888426 &  0.40155519 & -0.2422354 &  0.2831111 &  0.3710600\\\\\n",
       "\t 1000022 & 50 & female &  1.6588384 &  1.29550119 &  1.5858586 &  1.7183820 &  1.6632586\\\\\n",
       "\t 1000035 & 60 & male   &  1.1588003 &  1.64335532 &  1.7567751 &  0.5568670 &  1.6163710\\\\\n",
       "\t 1000046 & 70 & female & -0.5749957 & -0.01139192 & -1.2153981 & -0.6834640 &  1.5736620\\\\\n",
       "\t 1000054 & 45 & female & -1.1543210 & -0.58443457 & -0.8761561 & -0.6001504 & -0.8822776\\\\\n",
       "\t 1000063 & 65 & male   &  1.4177173 &  2.05214399 & -0.2529519 &  0.6911006 &  1.3997413\\\\\n",
       "\\end{tabular}\n"
      ],
      "text/markdown": [
       "\n",
       "A data.table: 6 × 8\n",
       "\n",
       "| id &lt;int&gt; | age &lt;int&gt; | sex &lt;chr&gt; | ckd &lt;dbl&gt; | copd &lt;dbl&gt; | diabetes &lt;dbl&gt; | liver &lt;dbl&gt; | ncvd &lt;dbl&gt; |\n",
       "|---|---|---|---|---|---|---|---|\n",
       "| 1000019 | 60 | female |  0.6888426 |  0.40155519 | -0.2422354 |  0.2831111 |  0.3710600 |\n",
       "| 1000022 | 50 | female |  1.6588384 |  1.29550119 |  1.5858586 |  1.7183820 |  1.6632586 |\n",
       "| 1000035 | 60 | male   |  1.1588003 |  1.64335532 |  1.7567751 |  0.5568670 |  1.6163710 |\n",
       "| 1000046 | 70 | female | -0.5749957 | -0.01139192 | -1.2153981 | -0.6834640 |  1.5736620 |\n",
       "| 1000054 | 45 | female | -1.1543210 | -0.58443457 | -0.8761561 | -0.6001504 | -0.8822776 |\n",
       "| 1000063 | 65 | male   |  1.4177173 |  2.05214399 | -0.2529519 |  0.6911006 |  1.3997413 |\n",
       "\n"
      ],
      "text/plain": [
       "  id      age sex    ckd        copd        diabetes   liver      ncvd      \n",
       "1 1000019 60  female  0.6888426  0.40155519 -0.2422354  0.2831111  0.3710600\n",
       "2 1000022 50  female  1.6588384  1.29550119  1.5858586  1.7183820  1.6632586\n",
       "3 1000035 60  male    1.1588003  1.64335532  1.7567751  0.5568670  1.6163710\n",
       "4 1000046 70  female -0.5749957 -0.01139192 -1.2153981 -0.6834640  1.5736620\n",
       "5 1000054 45  female -1.1543210 -0.58443457 -0.8761561 -0.6001504 -0.8822776\n",
       "6 1000063 65  male    1.4177173  2.05214399 -0.2529519  0.6911006  1.3997413"
      ]
     },
     "metadata": {},
     "output_type": "display_data"
    }
   ],
   "source": [
    "scores <- data.table::fread(here::here(\"output/disease_score_inverse_rank.tsv\")) %>% \n",
    "   select(id, age, sex, disease, score_norm) %>% spread(disease, score_norm)\n",
    "head(scores)"
   ]
  },
  {
   "cell_type": "markdown",
   "id": "f9b0a18f-262e-440d-bb2b-85598022a6dc",
   "metadata": {},
   "source": [
    "### loading PCA and genes"
   ]
  },
  {
   "cell_type": "code",
   "execution_count": 4,
   "id": "5a00c7f7-98fb-4555-86d1-ea2eaf165511",
   "metadata": {},
   "outputs": [
    {
     "name": "stderr",
     "output_type": "stream",
     "text": [
      "\u001b[36mi\u001b[39m Loading precomputed PCA\n",
      "\n",
      "Loading preprocessed genetic data (imputed genotypes)\n",
      "\n"
     ]
    }
   ],
   "source": [
    "pca <- get_ukbb_pca()\n",
    "genes <- get_imputed_genes()"
   ]
  },
  {
   "cell_type": "code",
   "execution_count": 5,
   "id": "ad1be286-4e86-4c3a-88cc-b6963239d8b2",
   "metadata": {},
   "outputs": [],
   "source": [
    "wb_patients <- fread(here(\"output/ukbb_white.british_patients.csv\"))$id"
   ]
  },
  {
   "cell_type": "code",
   "execution_count": 6,
   "id": "37472242-5ad0-4fa3-a666-d37d712da241",
   "metadata": {},
   "outputs": [
    {
     "name": "stderr",
     "output_type": "stream",
     "text": [
      "\u001b[1m\u001b[22mJoining, by = \"id\"\n",
      "\u001b[1m\u001b[22mJoining, by = \"id\"\n"
     ]
    },
    {
     "data": {
      "text/html": [
       "<table class=\"dataframe\">\n",
       "<caption>A data.frame: 6 × 37</caption>\n",
       "<thead>\n",
       "\t<tr><th></th><th scope=col>id</th><th scope=col>mother_age_at_death</th><th scope=col>mother_last_alive</th><th scope=col>father_age_at_death</th><th scope=col>father_last_alive</th><th scope=col>mdead</th><th scope=col>mfollow_time</th><th scope=col>fdead</th><th scope=col>ffollow_time</th><th scope=col>age</th><th scope=col>⋯</th><th scope=col>PC11</th><th scope=col>PC12</th><th scope=col>PC13</th><th scope=col>PC14</th><th scope=col>PC15</th><th scope=col>PC16</th><th scope=col>PC17</th><th scope=col>PC18</th><th scope=col>PC19</th><th scope=col>PC20</th></tr>\n",
       "\t<tr><th></th><th scope=col>&lt;int&gt;</th><th scope=col>&lt;dbl&gt;</th><th scope=col>&lt;dbl&gt;</th><th scope=col>&lt;dbl&gt;</th><th scope=col>&lt;dbl&gt;</th><th scope=col>&lt;lgl&gt;</th><th scope=col>&lt;int&gt;</th><th scope=col>&lt;lgl&gt;</th><th scope=col>&lt;int&gt;</th><th scope=col>&lt;int&gt;</th><th scope=col>⋯</th><th scope=col>&lt;dbl&gt;</th><th scope=col>&lt;dbl&gt;</th><th scope=col>&lt;dbl&gt;</th><th scope=col>&lt;dbl&gt;</th><th scope=col>&lt;dbl&gt;</th><th scope=col>&lt;dbl&gt;</th><th scope=col>&lt;dbl&gt;</th><th scope=col>&lt;dbl&gt;</th><th scope=col>&lt;dbl&gt;</th><th scope=col>&lt;dbl&gt;</th></tr>\n",
       "</thead>\n",
       "<tbody>\n",
       "\t<tr><th scope=row>1</th><td>1000022</td><td>Inf</td><td> 75</td><td>Inf</td><td> 78</td><td>FALSE</td><td>75</td><td>FALSE</td><td>78</td><td>50</td><td>⋯</td><td> 0.3170125</td><td> 2.6328147</td><td> 1.7163368</td><td>-5.01615392</td><td>-1.5772722</td><td>-3.564473</td><td>-2.2181418</td><td> 1.5713741</td><td>-1.9076169</td><td> 2.055364</td></tr>\n",
       "\t<tr><th scope=row>2</th><td>1000035</td><td>Inf</td><td>Inf</td><td>Inf</td><td> 87</td><td>FALSE</td><td>NA</td><td>FALSE</td><td>87</td><td>60</td><td>⋯</td><td>-2.0972524</td><td> 1.4066766</td><td>-0.9012911</td><td> 1.31854940</td><td> 0.1942449</td><td>-6.922619</td><td> 0.3071414</td><td>-2.0787710</td><td> 1.5407592</td><td> 1.184370</td></tr>\n",
       "\t<tr><th scope=row>3</th><td>1000046</td><td> 60</td><td>Inf</td><td> 60</td><td>Inf</td><td> TRUE</td><td>60</td><td> TRUE</td><td>60</td><td>70</td><td>⋯</td><td> 3.0222677</td><td>-0.4236680</td><td>-1.9314079</td><td>-0.09110024</td><td>-0.5955289</td><td>-1.992061</td><td>-6.1250101</td><td> 0.2095399</td><td> 0.2382121</td><td>-2.225729</td></tr>\n",
       "\t<tr><th scope=row>4</th><td>1000063</td><td> 52</td><td>Inf</td><td> 72</td><td>Inf</td><td> TRUE</td><td>52</td><td> TRUE</td><td>72</td><td>65</td><td>⋯</td><td> 3.5168629</td><td>-0.7654475</td><td> 0.4362669</td><td> 0.35964717</td><td>-3.3958734</td><td>-2.994583</td><td> 4.4955826</td><td>-1.0551477</td><td> 3.6623219</td><td> 4.815468</td></tr>\n",
       "\t<tr><th scope=row>5</th><td>1000078</td><td> 84</td><td>Inf</td><td> 63</td><td>Inf</td><td> TRUE</td><td>84</td><td> TRUE</td><td>63</td><td>60</td><td>⋯</td><td>-2.4854311</td><td> 4.0357319</td><td> 2.6573689</td><td>-3.91865870</td><td> 0.9580225</td><td> 1.568436</td><td>-0.6186636</td><td> 1.1179565</td><td>-1.5180180</td><td>-2.572448</td></tr>\n",
       "\t<tr><th scope=row>6</th><td>1000081</td><td> 78</td><td>Inf</td><td> 80</td><td>Inf</td><td> TRUE</td><td>78</td><td> TRUE</td><td>80</td><td>60</td><td>⋯</td><td>-0.3018311</td><td> 0.1101689</td><td>-2.1468426</td><td> 1.40032702</td><td>-2.2095284</td><td> 1.655876</td><td>-4.4644750</td><td> 0.3770999</td><td>-2.8147615</td><td> 3.609816</td></tr>\n",
       "</tbody>\n",
       "</table>\n"
      ],
      "text/latex": [
       "A data.frame: 6 × 37\n",
       "\\begin{tabular}{r|lllllllllllllllllllll}\n",
       "  & id & mother\\_age\\_at\\_death & mother\\_last\\_alive & father\\_age\\_at\\_death & father\\_last\\_alive & mdead & mfollow\\_time & fdead & ffollow\\_time & age & ⋯ & PC11 & PC12 & PC13 & PC14 & PC15 & PC16 & PC17 & PC18 & PC19 & PC20\\\\\n",
       "  & <int> & <dbl> & <dbl> & <dbl> & <dbl> & <lgl> & <int> & <lgl> & <int> & <int> & ⋯ & <dbl> & <dbl> & <dbl> & <dbl> & <dbl> & <dbl> & <dbl> & <dbl> & <dbl> & <dbl>\\\\\n",
       "\\hline\n",
       "\t1 & 1000022 & Inf &  75 & Inf &  78 & FALSE & 75 & FALSE & 78 & 50 & ⋯ &  0.3170125 &  2.6328147 &  1.7163368 & -5.01615392 & -1.5772722 & -3.564473 & -2.2181418 &  1.5713741 & -1.9076169 &  2.055364\\\\\n",
       "\t2 & 1000035 & Inf & Inf & Inf &  87 & FALSE & NA & FALSE & 87 & 60 & ⋯ & -2.0972524 &  1.4066766 & -0.9012911 &  1.31854940 &  0.1942449 & -6.922619 &  0.3071414 & -2.0787710 &  1.5407592 &  1.184370\\\\\n",
       "\t3 & 1000046 &  60 & Inf &  60 & Inf &  TRUE & 60 &  TRUE & 60 & 70 & ⋯ &  3.0222677 & -0.4236680 & -1.9314079 & -0.09110024 & -0.5955289 & -1.992061 & -6.1250101 &  0.2095399 &  0.2382121 & -2.225729\\\\\n",
       "\t4 & 1000063 &  52 & Inf &  72 & Inf &  TRUE & 52 &  TRUE & 72 & 65 & ⋯ &  3.5168629 & -0.7654475 &  0.4362669 &  0.35964717 & -3.3958734 & -2.994583 &  4.4955826 & -1.0551477 &  3.6623219 &  4.815468\\\\\n",
       "\t5 & 1000078 &  84 & Inf &  63 & Inf &  TRUE & 84 &  TRUE & 63 & 60 & ⋯ & -2.4854311 &  4.0357319 &  2.6573689 & -3.91865870 &  0.9580225 &  1.568436 & -0.6186636 &  1.1179565 & -1.5180180 & -2.572448\\\\\n",
       "\t6 & 1000081 &  78 & Inf &  80 & Inf &  TRUE & 78 &  TRUE & 80 & 60 & ⋯ & -0.3018311 &  0.1101689 & -2.1468426 &  1.40032702 & -2.2095284 &  1.655876 & -4.4644750 &  0.3770999 & -2.8147615 &  3.609816\\\\\n",
       "\\end{tabular}\n"
      ],
      "text/markdown": [
       "\n",
       "A data.frame: 6 × 37\n",
       "\n",
       "| <!--/--> | id &lt;int&gt; | mother_age_at_death &lt;dbl&gt; | mother_last_alive &lt;dbl&gt; | father_age_at_death &lt;dbl&gt; | father_last_alive &lt;dbl&gt; | mdead &lt;lgl&gt; | mfollow_time &lt;int&gt; | fdead &lt;lgl&gt; | ffollow_time &lt;int&gt; | age &lt;int&gt; | ⋯ ⋯ | PC11 &lt;dbl&gt; | PC12 &lt;dbl&gt; | PC13 &lt;dbl&gt; | PC14 &lt;dbl&gt; | PC15 &lt;dbl&gt; | PC16 &lt;dbl&gt; | PC17 &lt;dbl&gt; | PC18 &lt;dbl&gt; | PC19 &lt;dbl&gt; | PC20 &lt;dbl&gt; |\n",
       "|---|---|---|---|---|---|---|---|---|---|---|---|---|---|---|---|---|---|---|---|---|---|\n",
       "| 1 | 1000022 | Inf |  75 | Inf |  78 | FALSE | 75 | FALSE | 78 | 50 | ⋯ |  0.3170125 |  2.6328147 |  1.7163368 | -5.01615392 | -1.5772722 | -3.564473 | -2.2181418 |  1.5713741 | -1.9076169 |  2.055364 |\n",
       "| 2 | 1000035 | Inf | Inf | Inf |  87 | FALSE | NA | FALSE | 87 | 60 | ⋯ | -2.0972524 |  1.4066766 | -0.9012911 |  1.31854940 |  0.1942449 | -6.922619 |  0.3071414 | -2.0787710 |  1.5407592 |  1.184370 |\n",
       "| 3 | 1000046 |  60 | Inf |  60 | Inf |  TRUE | 60 |  TRUE | 60 | 70 | ⋯ |  3.0222677 | -0.4236680 | -1.9314079 | -0.09110024 | -0.5955289 | -1.992061 | -6.1250101 |  0.2095399 |  0.2382121 | -2.225729 |\n",
       "| 4 | 1000063 |  52 | Inf |  72 | Inf |  TRUE | 52 |  TRUE | 72 | 65 | ⋯ |  3.5168629 | -0.7654475 |  0.4362669 |  0.35964717 | -3.3958734 | -2.994583 |  4.4955826 | -1.0551477 |  3.6623219 |  4.815468 |\n",
       "| 5 | 1000078 |  84 | Inf |  63 | Inf |  TRUE | 84 |  TRUE | 63 | 60 | ⋯ | -2.4854311 |  4.0357319 |  2.6573689 | -3.91865870 |  0.9580225 |  1.568436 | -0.6186636 |  1.1179565 | -1.5180180 | -2.572448 |\n",
       "| 6 | 1000081 |  78 | Inf |  80 | Inf |  TRUE | 78 |  TRUE | 80 | 60 | ⋯ | -0.3018311 |  0.1101689 | -2.1468426 |  1.40032702 | -2.2095284 |  1.655876 | -4.4644750 |  0.3770999 | -2.8147615 |  3.609816 |\n",
       "\n"
      ],
      "text/plain": [
       "  id      mother_age_at_death mother_last_alive father_age_at_death\n",
       "1 1000022 Inf                  75               Inf                \n",
       "2 1000035 Inf                 Inf               Inf                \n",
       "3 1000046  60                 Inf                60                \n",
       "4 1000063  52                 Inf                72                \n",
       "5 1000078  84                 Inf                63                \n",
       "6 1000081  78                 Inf                80                \n",
       "  father_last_alive mdead mfollow_time fdead ffollow_time age <U+22EF>  \n",
       "1  78               FALSE 75           FALSE 78           50  <U+22EF>\n",
       "2  87               FALSE NA           FALSE 87           60  <U+22EF>\n",
       "3 Inf                TRUE 60            TRUE 60           70  <U+22EF>\n",
       "4 Inf                TRUE 52            TRUE 72           65  <U+22EF>\n",
       "5 Inf                TRUE 84            TRUE 63           60  <U+22EF>\n",
       "6 Inf                TRUE 78            TRUE 80           60  <U+22EF>\n",
       "  PC11       PC12       PC13       PC14        PC15       PC16      PC17      \n",
       "1  0.3170125  2.6328147  1.7163368 -5.01615392 -1.5772722 -3.564473 -2.2181418\n",
       "2 -2.0972524  1.4066766 -0.9012911  1.31854940  0.1942449 -6.922619  0.3071414\n",
       "3  3.0222677 -0.4236680 -1.9314079 -0.09110024 -0.5955289 -1.992061 -6.1250101\n",
       "4  3.5168629 -0.7654475  0.4362669  0.35964717 -3.3958734 -2.994583  4.4955826\n",
       "5 -2.4854311  4.0357319  2.6573689 -3.91865870  0.9580225  1.568436 -0.6186636\n",
       "6 -0.3018311  0.1101689 -2.1468426  1.40032702 -2.2095284  1.655876 -4.4644750\n",
       "  PC18       PC19       PC20     \n",
       "1  1.5713741 -1.9076169  2.055364\n",
       "2 -2.0787710  1.5407592  1.184370\n",
       "3  0.2095399  0.2382121 -2.225729\n",
       "4 -1.0551477  3.6623219  4.815468\n",
       "5  1.1179565 -1.5180180 -2.572448\n",
       "6  0.3770999 -2.8147615  3.609816"
      ]
     },
     "metadata": {},
     "output_type": "display_data"
    }
   ],
   "source": [
    "parents_survival <- parents_survival %>% \n",
    "    filter(id %in% wb_patients, id %in% scores$id, id %in% genes$fam$sample.ID) %>% \n",
    "    left_join(scores) %>% \n",
    "    left_join(pca)\n",
    "head(parents_survival)"
   ]
  },
  {
   "cell_type": "code",
   "execution_count": 8,
   "id": "0948458a-0b83-45db-8e8b-80f8e47db788",
   "metadata": {},
   "outputs": [],
   "source": [
    "father_survival <- parents_survival %>% \n",
    "    filter(!is.na(ffollow_time), ffollow_time > 0) %>% \n",
    "    select(id, time = ffollow_time, status = fdead, age:PC20) %>% \n",
    "    na.omit()"
   ]
  },
  {
   "cell_type": "code",
   "execution_count": 9,
   "id": "0006bba1-522f-4df3-85c3-dc1dd49d3674",
   "metadata": {},
   "outputs": [],
   "source": [
    "mother_survival <- parents_survival %>% \n",
    "    filter(!is.na(mfollow_time), mfollow_time > 0) %>% \n",
    "    select(id, time = mfollow_time, status = mdead, age:PC20) %>% \n",
    "    na.omit()"
   ]
  },
  {
   "cell_type": "code",
   "execution_count": 10,
   "id": "961d2343-94b7-4c15-a80f-854d9b4eba3f",
   "metadata": {},
   "outputs": [],
   "source": [
    "both_survival <- bind_rows(\n",
    "    father_survival %>% mutate(parent = \"father\"), \n",
    "    mother_survival %>% mutate(parent = \"mother\")\n",
    "    ) %>%\n",
    "        mutate(parent = factor(parent)) %>% \n",
    "        filter(!(status & time < 40))  %>% # remove parents who died before age 40\n",
    "        mutate(id_both = paste0(id, \".\", parent))"
   ]
  },
  {
   "cell_type": "code",
   "execution_count": 18,
   "id": "6e0b33d1-4f44-4653-bdf1-f9dd10246b5f",
   "metadata": {},
   "outputs": [
    {
     "name": "stderr",
     "output_type": "stream",
     "text": [
      "> Generating Cox NULL model\n",
      "\n",
      "Using cached rds from '/net/mraid14/export/data/users/nettam/projects/emr/ukbiobank/notebook/output/cox_parents_survival_both_null'\n",
      "\n",
      "> Running Cox GWAS\n",
      "\n",
      "> Running \u001b[34m\u001b[34m13840\u001b[34m\u001b[39m jobs\n",
      "\n",
      "\u001b[36mi\u001b[39m Loading \u001b[34m\u001b[34mgwiser\u001b[34m\u001b[39m\n",
      "\n"
     ]
    },
    {
     "name": "stdout",
     "output_type": "stream",
     "text": [
      "[1] \"Sample size is 615506.\"\n",
      "[1] \"Number of variants is 1001.\"\n",
      "[1] \"Start Analyzing...\"\n",
      "[1] \"2022-10-27 14:55:18 IDT\"\n",
      "[1] \"Analysis Complete.\"\n",
      "[1] \"2022-10-27 14:56:56 IDT\"\n"
     ]
    },
    {
     "name": "stderr",
     "output_type": "stream",
     "text": [
      "\u001b[36mi\u001b[39m Loading \u001b[34m\u001b[34mgwiser\u001b[34m\u001b[39m\n",
      "\n"
     ]
    },
    {
     "name": "stdout",
     "output_type": "stream",
     "text": [
      "[1] \"Sample size is 615506.\"\n",
      "[1] \"Number of variants is 1001.\"\n",
      "[1] \"Start Analyzing...\"\n",
      "[1] \"2022-10-27 14:57:41 IDT\"\n",
      "[1] \"Analysis Complete.\"\n",
      "[1] \"2022-10-27 14:58:55 IDT\"\n"
     ]
    },
    {
     "name": "stderr",
     "output_type": "stream",
     "text": [
      "\u001b[36mi\u001b[39m Loading \u001b[34m\u001b[34mgwiser\u001b[34m\u001b[39m\n",
      "\n"
     ]
    },
    {
     "name": "stdout",
     "output_type": "stream",
     "text": [
      "[1] \"Sample size is 615506.\"\n",
      "[1] \"Number of variants is 1001.\"\n",
      "[1] \"Start Analyzing...\"\n",
      "[1] \"2022-10-27 14:59:37 IDT\"\n",
      "[1] \"Analysis Complete.\"\n",
      "[1] \"2022-10-27 15:01:19 IDT\"\n"
     ]
    },
    {
     "name": "stderr",
     "output_type": "stream",
     "text": [
      "\u001b[36mi\u001b[39m Loading \u001b[34m\u001b[34mgwiser\u001b[34m\u001b[39m\n",
      "\n"
     ]
    },
    {
     "name": "stdout",
     "output_type": "stream",
     "text": [
      "[1] \"Sample size is 615506.\"\n",
      "[1] \"Number of variants is 1001.\"\n",
      "[1] \"Start Analyzing...\"\n",
      "[1] \"2022-10-27 15:02:05 IDT\"\n",
      "[1] \"Analysis Complete.\"\n",
      "[1] \"2022-10-27 15:03:53 IDT\"\n"
     ]
    },
    {
     "name": "stderr",
     "output_type": "stream",
     "text": [
      "\u001b[36mi\u001b[39m Loading \u001b[34m\u001b[34mgwiser\u001b[34m\u001b[39m\n",
      "\n"
     ]
    },
    {
     "name": "stdout",
     "output_type": "stream",
     "text": [
      "[1] \"Sample size is 615506.\"\n",
      "[1] \"Number of variants is 1001.\"\n",
      "[1] \"Start Analyzing...\"\n",
      "[1] \"2022-10-27 15:04:35 IDT\"\n",
      "[1] \"Analysis Complete.\"\n",
      "[1] \"2022-10-27 15:06:11 IDT\"\n"
     ]
    },
    {
     "name": "stderr",
     "output_type": "stream",
     "text": [
      "\u001b[36mi\u001b[39m Loading \u001b[34m\u001b[34mgwiser\u001b[34m\u001b[39m\n",
      "\n"
     ]
    },
    {
     "name": "stdout",
     "output_type": "stream",
     "text": [
      "[1] \"Sample size is 615506.\"\n",
      "[1] \"Number of variants is 1001.\"\n",
      "[1] \"Start Analyzing...\"\n",
      "[1] \"2022-10-27 15:06:53 IDT\"\n",
      "[1] \"Analysis Complete.\"\n",
      "[1] \"2022-10-27 15:08:25 IDT\"\n"
     ]
    },
    {
     "name": "stderr",
     "output_type": "stream",
     "text": [
      "\u001b[36mi\u001b[39m Loading \u001b[34m\u001b[34mgwiser\u001b[34m\u001b[39m\n",
      "\n"
     ]
    }
   ],
   "source": [
    "gwas_both <- {\n",
    "    df <- run_gwas_cox_both_parents(genes, both_survival %>% rename(gender=sex), null_fn = here(\"output/cox_parents_survival_both_null\"), max.jobs=200, use_sge=TRUE)\n",
    "    df <- df %>% left_join(genes$map, by = \"marker.ID\")\n",
    "    df <- df %>%\n",
    "        rename(chrom = chromosome, start = physical.pos) %>%\n",
    "        mutate(chrom = paste0(\"chr\", chrom), chrom = gsub(\"chr0\", \"chr\", chrom), end = start + 1, pval = log10(p.value.spa)) %>%\n",
    "        select(chrom, start, end, pval, marker.ID, allele1, allele2, everything())    \n",
    "    } %cache_df% here(\"output/cox_parents_survival_both_gwas.tsv\") %>% as_tibble()"
   ]
  },
  {
   "cell_type": "code",
   "execution_count": null,
   "id": "7591936c-3a09-4273-b43a-13b46b4ac81b",
   "metadata": {},
   "outputs": [],
   "source": [
    "gwas_mother <- {\n",
    "    df <- run_gwas_cox(genes, mother_survival %>% rename(gender=sex), null_fn = here(\"output/cox_parents_survival_mother_null\"), max.jobs=200)\n",
    "    df <- df %>% left_join(genes$map, by = \"marker.ID\")\n",
    "    df <- df %>%\n",
    "        rename(chrom = chromosome, start = physical.pos) %>%\n",
    "        mutate(chrom = paste0(\"chr\", chrom), chrom = gsub(\"chr0\", \"chr\", chrom), end = start + 1, pval = log10(p.value.spa)) %>%\n",
    "        select(chrom, start, end, pval, marker.ID, allele1, allele2, everything())    \n",
    "    } %cache_df% here(\"output/cox_parents_survival_mother_gwas.tsv\") %>% as_tibble()"
   ]
  },
  {
   "cell_type": "code",
   "execution_count": null,
   "id": "3eb3902a-9dcd-403c-adbd-1c8c28383ae4",
   "metadata": {},
   "outputs": [],
   "source": [
    "gwas_father <- {\n",
    "    df <- run_gwas_cox(genes, father_survival %>% rename(gender=sex), null_fn = here(\"output/cox_parents_survival_father_null\"), max.jobs=200)\n",
    "    df <- df %>% left_join(genes$map, by = \"marker.ID\")\n",
    "    df <- df %>%\n",
    "        rename(chrom = chromosome, start = physical.pos) %>%\n",
    "        mutate(chrom = paste0(\"chr\", chrom), chrom = gsub(\"chr0\", \"chr\", chrom), end = start + 1, pval = log10(p.value.spa)) %>%\n",
    "        select(chrom, start, end, pval, marker.ID, allele1, allele2, everything())    \n",
    "    } %cache_df% here(\"output/cox_parents_survival_father_gwas.tsv\") %>% as_tibble()"
   ]
  }
 ],
 "metadata": {
  "jupytext": {
   "formats": "ipynb,auto:light"
  },
  "kernelspec": {
   "display_name": "R 4.0.3",
   "language": "R",
   "name": "ir"
  },
  "language_info": {
   "codemirror_mode": "r",
   "file_extension": ".r",
   "mimetype": "text/x-r-source",
   "name": "R",
   "pygments_lexer": "r",
   "version": "4.0.3"
  }
 },
 "nbformat": 4,
 "nbformat_minor": 5
}
