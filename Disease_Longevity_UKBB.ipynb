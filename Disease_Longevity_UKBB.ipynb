{
 "cells": [
  {
   "cell_type": "markdown",
   "metadata": {
    "tags": []
   },
   "source": [
    "##### Disease risks and longevity scores on UKBB "
   ]
  },
  {
   "cell_type": "markdown",
   "metadata": {},
   "source": [
    "## Preprocessing UKBB phenotypic data (jan 2021)"
   ]
  },
  {
   "cell_type": "markdown",
   "metadata": {},
   "source": [
    "##### Initialize and load required packages"
   ]
  },
  {
   "cell_type": "code",
   "execution_count": 1,
   "metadata": {
    "tags": []
   },
   "outputs": [],
   "source": [
    "source(here::here(\"code/init.R\"))\n",
    "source(here::here(\"code/ukbb_preprocessing.R\"))\n",
    "source(here::here(\"code/models.R\"))\n",
    "options(tgutil.cache=FALSE)"
   ]
  },
  {
   "cell_type": "markdown",
   "metadata": {},
   "source": [
    "### loading full dataset"
   ]
  },
  {
   "cell_type": "code",
   "execution_count": 2,
   "metadata": {},
   "outputs": [
    {
     "name": "stderr",
     "output_type": "stream",
     "text": [
      "Warning message:\n",
      "\"\u001b[1m\u001b[22m`data_frame()` was deprecated in tibble 1.1.0.\n",
      "\u001b[36mi\u001b[39m Please use `tibble()` instead.\n",
      "\u001b[36mi\u001b[39m The deprecated feature was likely used in the \u001b[34mukbtools\u001b[39m package.\n",
      "  Please report the issue to the authors.\"\n"
     ]
    }
   ],
   "source": [
    "ukbb_data <- load_data()"
   ]
  },
  {
   "cell_type": "markdown",
   "metadata": {},
   "source": [
    "### Date of birth (dob) and death (dod)\n",
    "#### extracting dob / dod /race info from full dataset"
   ]
  },
  {
   "cell_type": "code",
   "execution_count": 3,
   "metadata": {
    "tags": []
   },
   "outputs": [],
   "source": [
    "ukbb_demog <- get_demog_data(ukbb_data) %cache_df% here('output/ukbb_demog.csv') %>% as_tibble()"
   ]
  },
  {
   "cell_type": "markdown",
   "metadata": {},
   "source": [
    "Show the column data in ukbb_demog"
   ]
  },
  {
   "cell_type": "code",
   "execution_count": 4,
   "metadata": {},
   "outputs": [
    {
     "data": {
      "text/html": [
       "<style>\n",
       ".list-inline {list-style: none; margin:0; padding: 0}\n",
       ".list-inline>li {display: inline-block}\n",
       ".list-inline>li:not(:last-child)::after {content: \"\\00b7\"; padding: 0 .5ex}\n",
       "</style>\n",
       "<ol class=list-inline><li>'id'</li><li>'sex'</li><li>'month_of_birth'</li><li>'year_of_birth'</li><li>'date_of_death_0'</li><li>'date_of_death_1'</li><li>'race_0'</li><li>'race_1'</li><li>'race_2'</li><li>'date_0'</li><li>'date_1'</li><li>'date_2'</li><li>'date_3'</li><li>'dob'</li><li>'age_0'</li><li>'age_1'</li><li>'age_2'</li><li>'age_3'</li><li>'dod'</li></ol>\n"
      ],
      "text/latex": [
       "\\begin{enumerate*}\n",
       "\\item 'id'\n",
       "\\item 'sex'\n",
       "\\item 'month\\_of\\_birth'\n",
       "\\item 'year\\_of\\_birth'\n",
       "\\item 'date\\_of\\_death\\_0'\n",
       "\\item 'date\\_of\\_death\\_1'\n",
       "\\item 'race\\_0'\n",
       "\\item 'race\\_1'\n",
       "\\item 'race\\_2'\n",
       "\\item 'date\\_0'\n",
       "\\item 'date\\_1'\n",
       "\\item 'date\\_2'\n",
       "\\item 'date\\_3'\n",
       "\\item 'dob'\n",
       "\\item 'age\\_0'\n",
       "\\item 'age\\_1'\n",
       "\\item 'age\\_2'\n",
       "\\item 'age\\_3'\n",
       "\\item 'dod'\n",
       "\\end{enumerate*}\n"
      ],
      "text/markdown": [
       "1. 'id'\n",
       "2. 'sex'\n",
       "3. 'month_of_birth'\n",
       "4. 'year_of_birth'\n",
       "5. 'date_of_death_0'\n",
       "6. 'date_of_death_1'\n",
       "7. 'race_0'\n",
       "8. 'race_1'\n",
       "9. 'race_2'\n",
       "10. 'date_0'\n",
       "11. 'date_1'\n",
       "12. 'date_2'\n",
       "13. 'date_3'\n",
       "14. 'dob'\n",
       "15. 'age_0'\n",
       "16. 'age_1'\n",
       "17. 'age_2'\n",
       "18. 'age_3'\n",
       "19. 'dod'\n",
       "\n",
       "\n"
      ],
      "text/plain": [
       " [1] \"id\"              \"sex\"             \"month_of_birth\"  \"year_of_birth\"  \n",
       " [5] \"date_of_death_0\" \"date_of_death_1\" \"race_0\"          \"race_1\"         \n",
       " [9] \"race_2\"          \"date_0\"          \"date_1\"          \"date_2\"         \n",
       "[13] \"date_3\"          \"dob\"             \"age_0\"           \"age_1\"          \n",
       "[17] \"age_2\"           \"age_3\"           \"dod\"            "
      ]
     },
     "metadata": {},
     "output_type": "display_data"
    }
   ],
   "source": [
    "colnames(ukbb_demog)"
   ]
  },
  {
   "cell_type": "markdown",
   "metadata": {},
   "source": [
    "### Extracting diagnosis from all sources\n",
    "hospitalizations, hesin followups, self reported questionnaires, first occurrences and general practice clinic followup."
   ]
  },
  {
   "cell_type": "code",
   "execution_count": 5,
   "metadata": {},
   "outputs": [],
   "source": [
    "ukbb_diagnosis <- get_diagnosis_data(ukbb_data, ukbb_demog ) %cache_df% here('output/ukbb_diagnosis.csv') %>% as_tibble()"
   ]
  },
  {
   "cell_type": "markdown",
   "metadata": {},
   "source": [
    "### Loading lab data"
   ]
  },
  {
   "cell_type": "code",
   "execution_count": 6,
   "metadata": {},
   "outputs": [
    {
     "name": "stderr",
     "output_type": "stream",
     "text": [
      "Warning message:\n",
      "\"\u001b[1m\u001b[22mThere was 1 warning in `mutate()`.\n",
      "\u001b[1m\u001b[22m\u001b[36mi\u001b[39m In argument: `value = as.numeric(value)`.\n",
      "Caused by warning:\n",
      "\u001b[33m!\u001b[39m NAs introduced by coercion\"\n"
     ]
    }
   ],
   "source": [
    "ukbb_visits <- get_visit_data(ukbb_demog) %cache_df% here('output/ukbb_visits.csv') %>% as_tibble()\n",
    "ukbb_labs <- get_labs_data(ukbb_data, ukbb_visits) %cache_df% here('output/ukbb_labs.csv') %>% as_tibble() %>% \n",
    "    mutate(sex=c('male', 'female')[sex]) %>% \n",
    "    inner_join(ln_ukbb_labs() %>% mutate(field=as.numeric(ukbb_code)) %>% select(field), by = \"field\")\n"
   ]
  },
  {
   "cell_type": "markdown",
   "metadata": {
    "tags": []
   },
   "source": [
    "### Normalize labs"
   ]
  },
  {
   "cell_type": "code",
   "execution_count": 7,
   "metadata": {},
   "outputs": [
    {
     "name": "stderr",
     "output_type": "stream",
     "text": [
      "> Downloading to a temporary directory \u001b[34m\u001b[34m/tmp/6935891.1.all.q/RtmplmKP6K\u001b[34m\u001b[39m.\n",
      "\n",
      "> Extracting data to \u001b[34m\u001b[34m/tmp/6935891.1.all.q/RtmplmKP6K\u001b[34m\u001b[39m.\n",
      "\n",
      "> Extracting data to \u001b[34m\u001b[34m/tmp/6935891.1.all.q/RtmplmKP6K\u001b[34m\u001b[39m.\n",
      "\n",
      "\u001b[32mv\u001b[39m Data downloaded successfully.\n",
      "\n",
      "\u001b[36mi\u001b[39m Converting \u001b[32m\u001b[32mumol/L\u001b[32m\u001b[39m to \u001b[32m\u001b[32mmg/dL\u001b[32m\u001b[39m for lab \u001b[32m\u001b[32mUrine Creatinine\u001b[32m\u001b[39m. Using the formula `0.011312 * x`.\n",
      "\n",
      "\u001b[36mi\u001b[39m Converting \u001b[32m\u001b[32mg/L\u001b[32m\u001b[39m to \u001b[32m\u001b[32mg/dL\u001b[32m\u001b[39m for lab \u001b[32m\u001b[32mAlbumin\u001b[32m\u001b[39m. Using the formula `0.1 * x`.\n",
      "\n",
      "\u001b[36mi\u001b[39m Converting \u001b[32m\u001b[32mumol/L\u001b[32m\u001b[39m to \u001b[32m\u001b[32mmg/dL\u001b[32m\u001b[39m for lab \u001b[32m\u001b[32mDirect Bilirubin\u001b[32m\u001b[39m. Using the formula `0.058467 * x`.\n",
      "\n",
      "\u001b[36mi\u001b[39m Converting \u001b[32m\u001b[32mmmol/L\u001b[32m\u001b[39m to \u001b[32m\u001b[32mmg/dL\u001b[32m\u001b[39m for lab \u001b[32m\u001b[32mUrea\u001b[32m\u001b[39m. Using the formula `6.006 * x`.\n",
      "\n",
      "\u001b[36mi\u001b[39m Converting \u001b[32m\u001b[32mmmol/L\u001b[32m\u001b[39m to \u001b[32m\u001b[32mmg/dL\u001b[32m\u001b[39m for lab \u001b[32m\u001b[32mCalcium\u001b[32m\u001b[39m. Using the formula `4.0078 * x`.\n",
      "\n",
      "\u001b[36mi\u001b[39m Converting \u001b[32m\u001b[32mmmol/L\u001b[32m\u001b[39m to \u001b[32m\u001b[32mmg/dL\u001b[32m\u001b[39m for lab \u001b[32m\u001b[32mTotal Cholesterol\u001b[32m\u001b[39m. Using the formula `38.665 * x`.\n",
      "\n",
      "\u001b[36mi\u001b[39m Converting \u001b[32m\u001b[32mumol/L\u001b[32m\u001b[39m to \u001b[32m\u001b[32mmg/dL\u001b[32m\u001b[39m for lab \u001b[32m\u001b[32mCreatinine\u001b[32m\u001b[39m. Using the formula `0.011312 * x`.\n",
      "\n",
      "\u001b[36mi\u001b[39m Converting \u001b[32m\u001b[32mmg/L\u001b[32m\u001b[39m to \u001b[32m\u001b[32mmg/dL\u001b[32m\u001b[39m for lab \u001b[32m\u001b[32mCRP\u001b[32m\u001b[39m. Using the formula `0.1 * x`.\n",
      "\n",
      "\u001b[36mi\u001b[39m Converting \u001b[32m\u001b[32mmmol/L\u001b[32m\u001b[39m to \u001b[32m\u001b[32mmg/dL\u001b[32m\u001b[39m for lab \u001b[32m\u001b[32mGlucose\u001b[32m\u001b[39m. Using the formula `18.016 * x`.\n",
      "\n",
      "\u001b[36mi\u001b[39m Converting \u001b[32m\u001b[32mmmol/mol\u001b[32m\u001b[39m to \u001b[32m\u001b[32m%\u001b[32m\u001b[39m for lab \u001b[32m\u001b[32mHemoglobin A1c\u001b[32m\u001b[39m. Using the formula `x/10.929 + 2.15`.\n",
      "\n",
      "\u001b[36mi\u001b[39m Converting \u001b[32m\u001b[32mmmol/L\u001b[32m\u001b[39m to \u001b[32m\u001b[32mmg/dL\u001b[32m\u001b[39m for lab \u001b[32m\u001b[32mHDL Cholesterol\u001b[32m\u001b[39m. Using the formula `38.665 * x`.\n",
      "\n",
      "\u001b[36mi\u001b[39m Converting \u001b[32m\u001b[32mmmol/L\u001b[32m\u001b[39m to \u001b[32m\u001b[32mmg/dL\u001b[32m\u001b[39m for lab \u001b[32m\u001b[32mLDL Cholesterol\u001b[32m\u001b[39m. Using the formula `38.665 * x`.\n",
      "\n",
      "\u001b[36mi\u001b[39m Converting \u001b[32m\u001b[32mmmol/L\u001b[32m\u001b[39m to \u001b[32m\u001b[32mmg/dL\u001b[32m\u001b[39m for lab \u001b[32m\u001b[32mPhosphorus\u001b[32m\u001b[39m. Using the formula `3.1 * x`.\n",
      "\n",
      "\u001b[36mi\u001b[39m Converting \u001b[32m\u001b[32mumol/L\u001b[32m\u001b[39m to \u001b[32m\u001b[32mmg/dL\u001b[32m\u001b[39m for lab \u001b[32m\u001b[32mTotal Bilirubin\u001b[32m\u001b[39m. Using the formula `0.058467 * x`.\n",
      "\n",
      "\u001b[36mi\u001b[39m Converting \u001b[32m\u001b[32mmg/mL\u001b[32m\u001b[39m to \u001b[32m\u001b[32mg/dL\u001b[32m\u001b[39m for lab \u001b[32m\u001b[32mTotal Protein\u001b[32m\u001b[39m. Using the formula `0.1 * x`.\n",
      "\n",
      "\u001b[36mi\u001b[39m Converting \u001b[32m\u001b[32mmmol/L\u001b[32m\u001b[39m to \u001b[32m\u001b[32mmg/dL\u001b[32m\u001b[39m for lab \u001b[32m\u001b[32mTriglycerides\u001b[32m\u001b[39m. Using the formula `88.5 * x`.\n",
      "\n",
      "Warning message in ln_normalize(values = values, age = age, sex = sex, units = ln_ukbb_units(lab_code), :\n",
      "\"\u001b[1m\u001b[22mAge must be at most \u001b[34m80\u001b[39m for \u001b[32mUKBB\u001b[39m.\"\n",
      "Warning message in ln_normalize(values = values, age = age, sex = sex, units = ln_ukbb_units(lab_code), :\n",
      "\"\u001b[1m\u001b[22mAge must be at most \u001b[34m80\u001b[39m for \u001b[32mUKBB\u001b[39m.\"\n",
      "Warning message in ln_normalize(values = values, age = age, sex = sex, units = ln_ukbb_units(lab_code), :\n",
      "\"\u001b[1m\u001b[22mAge must be at most \u001b[34m80\u001b[39m for \u001b[32mUKBB\u001b[39m.\"\n"
     ]
    }
   ],
   "source": [
    "ukbb_labs$q <- ln_normalize_multi_ukbb(ukbb_labs %>% select(id, lab_code=field, age, sex, value))"
   ]
  },
  {
   "cell_type": "code",
   "execution_count": 8,
   "metadata": {
    "tags": []
   },
   "outputs": [
    {
     "data": {
      "text/html": [
       "<table class=\"dataframe\">\n",
       "<caption>A tibble: 6 × 6</caption>\n",
       "<thead>\n",
       "\t<tr><th scope=col>field</th><th scope=col>description</th><th scope=col>age</th><th scope=col>sex</th><th scope=col>value</th><th scope=col>q</th></tr>\n",
       "\t<tr><th scope=col>&lt;dbl&gt;</th><th scope=col>&lt;chr&gt;</th><th scope=col>&lt;dbl&gt;</th><th scope=col>&lt;chr&gt;</th><th scope=col>&lt;dbl&gt;</th><th scope=col>&lt;dbl&gt;</th></tr>\n",
       "</thead>\n",
       "<tbody>\n",
       "\t<tr><td>30000</td><td>White blood cell (leukocyte) count</td><td>57.70959</td><td>female</td><td> 6.10</td><td>0.4178591</td></tr>\n",
       "\t<tr><td>30000</td><td>White blood cell (leukocyte) count</td><td>46.40000</td><td>female</td><td>11.35</td><td>0.9801270</td></tr>\n",
       "\t<tr><td>30000</td><td>White blood cell (leukocyte) count</td><td>57.98356</td><td>male  </td><td>10.12</td><td>0.9570285</td></tr>\n",
       "\t<tr><td>30000</td><td>White blood cell (leukocyte) count</td><td>67.73425</td><td>female</td><td> 5.40</td><td>0.1806039</td></tr>\n",
       "\t<tr><td>30000</td><td>White blood cell (leukocyte) count</td><td>41.46849</td><td>female</td><td> 8.44</td><td>0.8015539</td></tr>\n",
       "\t<tr><td>30000</td><td>White blood cell (leukocyte) count</td><td>63.21918</td><td>male  </td><td> 5.60</td><td>0.2272401</td></tr>\n",
       "</tbody>\n",
       "</table>\n"
      ],
      "text/latex": [
       "A tibble: 6 × 6\n",
       "\\begin{tabular}{llllll}\n",
       " field & description & age & sex & value & q\\\\\n",
       " <dbl> & <chr> & <dbl> & <chr> & <dbl> & <dbl>\\\\\n",
       "\\hline\n",
       "\t 30000 & White blood cell (leukocyte) count & 57.70959 & female &  6.10 & 0.4178591\\\\\n",
       "\t 30000 & White blood cell (leukocyte) count & 46.40000 & female & 11.35 & 0.9801270\\\\\n",
       "\t 30000 & White blood cell (leukocyte) count & 57.98356 & male   & 10.12 & 0.9570285\\\\\n",
       "\t 30000 & White blood cell (leukocyte) count & 67.73425 & female &  5.40 & 0.1806039\\\\\n",
       "\t 30000 & White blood cell (leukocyte) count & 41.46849 & female &  8.44 & 0.8015539\\\\\n",
       "\t 30000 & White blood cell (leukocyte) count & 63.21918 & male   &  5.60 & 0.2272401\\\\\n",
       "\\end{tabular}\n"
      ],
      "text/markdown": [
       "\n",
       "A tibble: 6 × 6\n",
       "\n",
       "| field &lt;dbl&gt; | description &lt;chr&gt; | age &lt;dbl&gt; | sex &lt;chr&gt; | value &lt;dbl&gt; | q &lt;dbl&gt; |\n",
       "|---|---|---|---|---|---|\n",
       "| 30000 | White blood cell (leukocyte) count | 57.70959 | female |  6.10 | 0.4178591 |\n",
       "| 30000 | White blood cell (leukocyte) count | 46.40000 | female | 11.35 | 0.9801270 |\n",
       "| 30000 | White blood cell (leukocyte) count | 57.98356 | male   | 10.12 | 0.9570285 |\n",
       "| 30000 | White blood cell (leukocyte) count | 67.73425 | female |  5.40 | 0.1806039 |\n",
       "| 30000 | White blood cell (leukocyte) count | 41.46849 | female |  8.44 | 0.8015539 |\n",
       "| 30000 | White blood cell (leukocyte) count | 63.21918 | male   |  5.60 | 0.2272401 |\n",
       "\n"
      ],
      "text/plain": [
       "  field description                        age      sex    value q        \n",
       "1 30000 White blood cell (leukocyte) count 57.70959 female  6.10 0.4178591\n",
       "2 30000 White blood cell (leukocyte) count 46.40000 female 11.35 0.9801270\n",
       "3 30000 White blood cell (leukocyte) count 57.98356 male   10.12 0.9570285\n",
       "4 30000 White blood cell (leukocyte) count 67.73425 female  5.40 0.1806039\n",
       "5 30000 White blood cell (leukocyte) count 41.46849 female  8.44 0.8015539\n",
       "6 30000 White blood cell (leukocyte) count 63.21918 male    5.60 0.2272401"
      ]
     },
     "metadata": {},
     "output_type": "display_data"
    }
   ],
   "source": [
    "head(ukbb_labs %>% select(field, description, age, sex, value, q))"
   ]
  },
  {
   "cell_type": "markdown",
   "metadata": {},
   "source": [
    "### Computing diseases onset"
   ]
  },
  {
   "cell_type": "code",
   "execution_count": 9,
   "metadata": {
    "tags": []
   },
   "outputs": [],
   "source": [
    "cancer_codes <- build_cancer_icd9_icd10_dictionary(ukbb_data)\n",
    "ukbb_diseases <- get_diseases(ukbb_diagnosis, cancer_codes) %cache_df% here('output/ukbb_diseases.csv') %>% as_tibble()"
   ]
  },
  {
   "cell_type": "markdown",
   "metadata": {},
   "source": [
    "### Computing parent survival data"
   ]
  },
  {
   "cell_type": "code",
   "execution_count": 10,
   "metadata": {},
   "outputs": [],
   "source": [
    "parents <- get_parents_survival(ukbb_data) %cache_df% here('output/ukbb_parents.csv') %>% as_tibble()"
   ]
  },
  {
   "cell_type": "markdown",
   "metadata": {},
   "source": [
    "### Free up memory"
   ]
  },
  {
   "cell_type": "code",
   "execution_count": 11,
   "metadata": {},
   "outputs": [
    {
     "data": {
      "text/html": [
       "<table class=\"dataframe\">\n",
       "<caption>A matrix: 2 × 6 of type dbl</caption>\n",
       "<thead>\n",
       "\t<tr><th></th><th scope=col>used</th><th scope=col>(Mb)</th><th scope=col>gc trigger</th><th scope=col>(Mb)</th><th scope=col>max used</th><th scope=col>(Mb)</th></tr>\n",
       "</thead>\n",
       "<tbody>\n",
       "\t<tr><th scope=row>Ncells</th><td>  3859814</td><td> 206.2</td><td>  62787469</td><td> 3353.3</td><td>   78484336</td><td> 4191.6</td></tr>\n",
       "\t<tr><th scope=row>Vcells</th><td>398493495</td><td>3040.3</td><td>8623833456</td><td>65794.7</td><td>10779791820</td><td>82243.3</td></tr>\n",
       "</tbody>\n",
       "</table>\n"
      ],
      "text/latex": [
       "A matrix: 2 × 6 of type dbl\n",
       "\\begin{tabular}{r|llllll}\n",
       "  & used & (Mb) & gc trigger & (Mb) & max used & (Mb)\\\\\n",
       "\\hline\n",
       "\tNcells &   3859814 &  206.2 &   62787469 &  3353.3 &    78484336 &  4191.6\\\\\n",
       "\tVcells & 398493495 & 3040.3 & 8623833456 & 65794.7 & 10779791820 & 82243.3\\\\\n",
       "\\end{tabular}\n"
      ],
      "text/markdown": [
       "\n",
       "A matrix: 2 × 6 of type dbl\n",
       "\n",
       "| <!--/--> | used | (Mb) | gc trigger | (Mb) | max used | (Mb) |\n",
       "|---|---|---|---|---|---|---|\n",
       "| Ncells |   3859814 |  206.2 |   62787469 |  3353.3 |    78484336 |  4191.6 |\n",
       "| Vcells | 398493495 | 3040.3 | 8623833456 | 65794.7 | 10779791820 | 82243.3 |\n",
       "\n"
      ],
      "text/plain": [
       "       used      (Mb)   gc trigger (Mb)    max used    (Mb)   \n",
       "Ncells   3859814  206.2   62787469  3353.3    78484336  4191.6\n",
       "Vcells 398493495 3040.3 8623833456 65794.7 10779791820 82243.3"
      ]
     },
     "metadata": {},
     "output_type": "display_data"
    }
   ],
   "source": [
    "rm(ukbb_data)\n",
    "gc()"
   ]
  },
  {
   "cell_type": "markdown",
   "metadata": {
    "tags": []
   },
   "source": [
    "## computing Longevity and Diseases models scores\n",
    "We will use the `mldpEHR` package to run infer scores from the models that were generated using the Clalit database.\n",
    "We start by loading the models.\n",
    "### Load prediction models"
   ]
  },
  {
   "cell_type": "code",
   "execution_count": 12,
   "metadata": {},
   "outputs": [],
   "source": [
    "models_dir <- 'data/models/'\n",
    "predictors <- c('longevity', 'diabetes', 'ckd', 'copd', 'cvd', 'liver') %>% \n",
    "    purrr::set_names() %>% \n",
    "    purrr::map(function(m) \n",
    "    {\n",
    "        readr::read_rds(paste0(models_dir, m, '.rds')) %>% \n",
    "            purrr::imap( ~ c(.x, age=as.numeric(.y), feature_names=list(unique(unlist(purrr::map(.x$model, ~ .x$feature_names))))))\n",
    "    })\n",
    "\n"
   ]
  },
  {
   "cell_type": "markdown",
   "metadata": {},
   "source": [
    "### gathering all potential model features\n",
    "Each predictor had its own features used in the model.\n",
    "As the overlap is extensive between the different predictors, we will gather all features and compute them once.\n"
   ]
  },
  {
   "cell_type": "code",
   "execution_count": 13,
   "metadata": {},
   "outputs": [],
   "source": [
    "potential_features <- unique(unlist(purrr::map(predictors, function(predictor) {\n",
    "    purrr::map(predictor, function(p) {\n",
    "        p$feature_names\n",
    "    })\n",
    "})))"
   ]
  },
  {
   "cell_type": "markdown",
   "metadata": {},
   "source": [
    "### computing all features for all patients"
   ]
  },
  {
   "cell_type": "code",
   "execution_count": 14,
   "metadata": {},
   "outputs": [
    {
     "name": "stderr",
     "output_type": "stream",
     "text": [
      "80\n",
      "\n",
      "75\n",
      "\n",
      "70\n",
      "\n",
      "65\n",
      "\n",
      "60\n",
      "\n",
      "55\n",
      "\n",
      "50\n",
      "\n",
      "45\n",
      "\n",
      "40\n",
      "\n",
      "35\n",
      "\n",
      "30\n",
      "\n"
     ]
    }
   ],
   "source": [
    "#building features to be used by all predictors (longevity, diseases)\n",
    "ukbb_to_clalit <- tgutil::fread('data/ukbb_lab_field_to_clalit_lab.csv')\n",
    "features <- purrr::map2_df(predictors[[1]], names(predictors[[1]]), function(model, age_model) {\n",
    "    message(age_model)\n",
    "    age_model <- as.numeric(age_model)\n",
    "    labs_features <- ukbb_labs %>% filter(age<age_model, age>age_model-5, !is.na(q)) %>% \n",
    "        left_join(ukbb_to_clalit %>% select(field, track), by=\"field\") %>% \n",
    "        mutate(feature=paste0(track, '.quantiles_1_years_minus1095')) %>% \n",
    "        filter(feature %in% potential_features) %>% \n",
    "        group_by(id, feature) %>% summarize(value=mean(q), .groups=\"drop\")\n",
    "\n",
    "    disease_features <- ukbb_diseases %>% filter(age <= age_model) %>% \n",
    "        mutate(feature=paste0('WZMN.', cohort, '_minus43800_0')) %>% \n",
    "        filter(feature %in% potential_features) %>% \n",
    "        distinct(id, feature) %>% \n",
    "        mutate(value=1)\n",
    "\n",
    "    ids <- unique(c(labs_features$id, disease_features$id))\n",
    "\n",
    "    #adding female/male/age info\n",
    "    features_tidy <- data.frame(id=ids, feature=\"age\", value=age_model) %>% \n",
    "        bind_rows(ukbb_demog %>% filter(id %in% ids) %>% mutate(feature=\"male\", value= sex==1) %>% select(id, feature, value)) %>% \n",
    "        bind_rows(labs_features) %>% \n",
    "        bind_rows(disease_features)\n",
    "\n",
    "    #moving from tidy format\n",
    "    features <- features_tidy %>% pivot_wider(id_cols='id', names_from='feature') %>% \n",
    "        mutate(sex=2-male)\n",
    "\n",
    "    #setting missing diesease values to 0\n",
    "    disease_feature_names <- grep('WZMN.disease', colnames(features), value=TRUE)\n",
    "    features[,disease_feature_names][is.na(features[,disease_feature_names])] <- 0\n",
    "\n",
    "    #adding missing features\n",
    "    missing_features <- setdiff(potential_features, colnames(features))\n",
    "    features[,missing_features] <- NA\n",
    "    \n",
    "    #requiring RBC\n",
    "    features <- features %>% filter(!is.na(lab.101.quantiles_1_years_minus1095))\n",
    "    return(features)\n",
    "}) %cache_df% here('output/ukbb_mldp_features.csv') %>% as_tibble()\n"
   ]
  },
  {
   "cell_type": "markdown",
   "metadata": {},
   "source": [
    "#### compute scores"
   ]
  },
  {
   "cell_type": "code",
   "execution_count": 15,
   "metadata": {},
   "outputs": [],
   "source": [
    "predictor_scores <- purrr::map2_df(predictors, names(predictors), ~ mldp_predict_multi_age(features, .x) %>% mutate(predictor=.y))"
   ]
  },
  {
   "cell_type": "code",
   "execution_count": 16,
   "metadata": {},
   "outputs": [
    {
     "name": "stderr",
     "output_type": "stream",
     "text": [
      "\u001b[1m\u001b[22mJoining with `by = join_by(id, predictor)`\n",
      "\u001b[1m\u001b[22mJoining with `by = join_by(id, age)`\n"
     ]
    },
    {
     "data": {
      "text/html": [
       "<table class=\"dataframe\">\n",
       "<caption>A tibble: 6 × 9</caption>\n",
       "<thead>\n",
       "\t<tr><th scope=col>age</th><th scope=col>sex</th><th scope=col>longevity</th><th scope=col>longevity_q</th><th scope=col>diabetes</th><th scope=col>ckd</th><th scope=col>copd</th><th scope=col>cvd</th><th scope=col>liver</th></tr>\n",
       "\t<tr><th scope=col>&lt;dbl&gt;</th><th scope=col>&lt;fct&gt;</th><th scope=col>&lt;dbl&gt;</th><th scope=col>&lt;dbl&gt;</th><th scope=col>&lt;dbl&gt;</th><th scope=col>&lt;dbl&gt;</th><th scope=col>&lt;dbl&gt;</th><th scope=col>&lt;dbl&gt;</th><th scope=col>&lt;dbl&gt;</th></tr>\n",
       "</thead>\n",
       "<tbody>\n",
       "\t<tr><td>45</td><td>female</td><td>0.9675882</td><td>0.1925792</td><td>0.08815524</td><td>0.04167553</td><td>0.02798628</td><td>0.2060382</td><td>0.022592036</td></tr>\n",
       "\t<tr><td>45</td><td>male  </td><td>0.9119281</td><td>0.1060348</td><td>0.15909692</td><td>0.03919249</td><td>0.09064247</td><td>0.2944900</td><td>0.008487539</td></tr>\n",
       "\t<tr><td>45</td><td>female</td><td>0.9969831</td><td>0.4574361</td><td>0.20979514</td><td>0.13855365</td><td>0.12811647</td><td>0.6370679</td><td>0.022256322</td></tr>\n",
       "\t<tr><td>45</td><td>male  </td><td>0.9945255</td><td>0.3984270</td><td>0.07791844</td><td>0.05965531</td><td>0.04335517</td><td>0.2117718</td><td>0.033393441</td></tr>\n",
       "\t<tr><td>45</td><td>female</td><td>0.9838166</td><td>0.2651281</td><td>0.08008288</td><td>0.02218681</td><td>0.06593383</td><td>0.1207745</td><td>0.009952694</td></tr>\n",
       "\t<tr><td>45</td><td>male  </td><td>0.9377217</td><td>0.1345166</td><td>0.03196407</td><td>0.04930571</td><td>0.01263509</td><td>0.1157229</td><td>0.014305011</td></tr>\n",
       "</tbody>\n",
       "</table>\n"
      ],
      "text/latex": [
       "A tibble: 6 × 9\n",
       "\\begin{tabular}{lllllllll}\n",
       " age & sex & longevity & longevity\\_q & diabetes & ckd & copd & cvd & liver\\\\\n",
       " <dbl> & <fct> & <dbl> & <dbl> & <dbl> & <dbl> & <dbl> & <dbl> & <dbl>\\\\\n",
       "\\hline\n",
       "\t 45 & female & 0.9675882 & 0.1925792 & 0.08815524 & 0.04167553 & 0.02798628 & 0.2060382 & 0.022592036\\\\\n",
       "\t 45 & male   & 0.9119281 & 0.1060348 & 0.15909692 & 0.03919249 & 0.09064247 & 0.2944900 & 0.008487539\\\\\n",
       "\t 45 & female & 0.9969831 & 0.4574361 & 0.20979514 & 0.13855365 & 0.12811647 & 0.6370679 & 0.022256322\\\\\n",
       "\t 45 & male   & 0.9945255 & 0.3984270 & 0.07791844 & 0.05965531 & 0.04335517 & 0.2117718 & 0.033393441\\\\\n",
       "\t 45 & female & 0.9838166 & 0.2651281 & 0.08008288 & 0.02218681 & 0.06593383 & 0.1207745 & 0.009952694\\\\\n",
       "\t 45 & male   & 0.9377217 & 0.1345166 & 0.03196407 & 0.04930571 & 0.01263509 & 0.1157229 & 0.014305011\\\\\n",
       "\\end{tabular}\n"
      ],
      "text/markdown": [
       "\n",
       "A tibble: 6 × 9\n",
       "\n",
       "| age &lt;dbl&gt; | sex &lt;fct&gt; | longevity &lt;dbl&gt; | longevity_q &lt;dbl&gt; | diabetes &lt;dbl&gt; | ckd &lt;dbl&gt; | copd &lt;dbl&gt; | cvd &lt;dbl&gt; | liver &lt;dbl&gt; |\n",
       "|---|---|---|---|---|---|---|---|---|\n",
       "| 45 | female | 0.9675882 | 0.1925792 | 0.08815524 | 0.04167553 | 0.02798628 | 0.2060382 | 0.022592036 |\n",
       "| 45 | male   | 0.9119281 | 0.1060348 | 0.15909692 | 0.03919249 | 0.09064247 | 0.2944900 | 0.008487539 |\n",
       "| 45 | female | 0.9969831 | 0.4574361 | 0.20979514 | 0.13855365 | 0.12811647 | 0.6370679 | 0.022256322 |\n",
       "| 45 | male   | 0.9945255 | 0.3984270 | 0.07791844 | 0.05965531 | 0.04335517 | 0.2117718 | 0.033393441 |\n",
       "| 45 | female | 0.9838166 | 0.2651281 | 0.08008288 | 0.02218681 | 0.06593383 | 0.1207745 | 0.009952694 |\n",
       "| 45 | male   | 0.9377217 | 0.1345166 | 0.03196407 | 0.04930571 | 0.01263509 | 0.1157229 | 0.014305011 |\n",
       "\n"
      ],
      "text/plain": [
       "  age sex    longevity longevity_q diabetes   ckd        copd       cvd      \n",
       "1 45  female 0.9675882 0.1925792   0.08815524 0.04167553 0.02798628 0.2060382\n",
       "2 45  male   0.9119281 0.1060348   0.15909692 0.03919249 0.09064247 0.2944900\n",
       "3 45  female 0.9969831 0.4574361   0.20979514 0.13855365 0.12811647 0.6370679\n",
       "4 45  male   0.9945255 0.3984270   0.07791844 0.05965531 0.04335517 0.2117718\n",
       "5 45  female 0.9838166 0.2651281   0.08008288 0.02218681 0.06593383 0.1207745\n",
       "6 45  male   0.9377217 0.1345166   0.03196407 0.04930571 0.01263509 0.1157229\n",
       "  liver      \n",
       "1 0.022592036\n",
       "2 0.008487539\n",
       "3 0.022256322\n",
       "4 0.033393441\n",
       "5 0.009952694\n",
       "6 0.014305011"
      ]
     },
     "metadata": {},
     "output_type": "display_data"
    }
   ],
   "source": [
    "#note: setting disease score for patients that are already sick to NA\n",
    "pop <- predictor_scores %>% filter(predictor == \"longevity\") %>% \n",
    "    select(id, age, sex, longevity=score, longevity_q=quantile) %>% \n",
    "    mutate(sex=factor(c('male', 'female')[sex], levels=c('male', 'female'))) %>% \n",
    "    left_join(predictor_scores %>% filter(predictor != \"longevity\") %>% \n",
    "        select(id, age, predictor, score) %>% \n",
    "        left_join(ukbb_diseases %>% select(id, disease_age=age, predictor=cohort)) %>% \n",
    "        mutate(score = ifelse(!is.na(disease_age) & disease_age < age, NA, score)) %>% \n",
    "        pivot_wider(id_cols=c(\"id\", \"age\"), names_from=\"predictor\", values_from=\"score\")\n",
    ") %cache_df% here('output/pop_scores.csv') %>% as_tibble()\n",
    "head(pop %>% select(-id))\n"
   ]
  },
  {
   "cell_type": "code",
   "execution_count": null,
   "metadata": {},
   "outputs": [],
   "source": []
  },
  {
   "cell_type": "code",
   "execution_count": null,
   "metadata": {},
   "outputs": [],
   "source": []
  }
 ],
 "metadata": {
  "jupytext": {
   "formats": "ipynb,Rmd,R:light"
  },
  "kernelspec": {
   "display_name": "R 4.2",
   "language": "R",
   "name": "ir42"
  },
  "language_info": {
   "codemirror_mode": "r",
   "file_extension": ".r",
   "mimetype": "text/x-r-source",
   "name": "R",
   "pygments_lexer": "r",
   "version": "4.2.1"
  }
 },
 "nbformat": 4,
 "nbformat_minor": 4
}
